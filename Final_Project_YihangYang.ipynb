{
  "cells": [
    {
      "cell_type": "markdown",
      "id": "6d283066",
      "metadata": {
        "id": "6d283066"
      },
      "source": [
        "Dataset name: Stanford Sentiment Treebank (SST-2)\n",
        "Dataset link:https://huggingface.co/datasets/stanfordnlp/sst2/tree/main/data\n",
        "Different from what I expected in my proposal, the SST-2 dataset used here is a simplified version with 3 emotion classes (negative -1, neutral 0, positive 1) instead of 5 to accelerate training.\n",
        "\n",
        "I will use the optimal model trained to compare the accuracies and running time with those of a complex Distil-Bert Model."
      ]
    },
    {
      "cell_type": "code",
      "execution_count": null,
      "id": "1a8ac2a0",
      "metadata": {
        "id": "1a8ac2a0"
      },
      "outputs": [],
      "source": [
        "import pandas as pd\n",
        "from pandas import read_parquet\n",
        "import numpy as np\n",
        "\n"
      ]
    },
    {
      "cell_type": "code",
      "execution_count": null,
      "id": "3a669e55",
      "metadata": {
        "id": "3a669e55"
      },
      "outputs": [],
      "source": [
        "from sklearn import datasets\n",
        "from sklearn.svm import SVC\n",
        "from sklearn.feature_extraction.text import CountVectorizer"
      ]
    },
    {
      "cell_type": "code",
      "execution_count": null,
      "id": "80e4a82d",
      "metadata": {
        "id": "80e4a82d"
      },
      "outputs": [],
      "source": [
        "from sklearn.model_selection import GridSearchCV\n",
        "from sklearn.naive_bayes import MultinomialNB\n",
        "from sklearn.naive_bayes import GaussianNB\n",
        "from sklearn.preprocessing import StandardScaler\n",
        "from sklearn.metrics import accuracy_score"
      ]
    },
    {
      "cell_type": "code",
      "execution_count": null,
      "id": "42ae9328",
      "metadata": {
        "id": "42ae9328"
      },
      "outputs": [],
      "source": [
        "from sklearn.ensemble import RandomForestClassifier"
      ]
    },
    {
      "cell_type": "code",
      "execution_count": null,
      "id": "4f0b1752",
      "metadata": {
        "id": "4f0b1752"
      },
      "outputs": [],
      "source": [
        "from sklearn.pipeline import Pipeline"
      ]
    },
    {
      "cell_type": "code",
      "execution_count": null,
      "id": "b7d9e832",
      "metadata": {
        "id": "b7d9e832"
      },
      "outputs": [],
      "source": [
        "from sklearn.decomposition import PCA"
      ]
    },
    {
      "cell_type": "code",
      "execution_count": null,
      "id": "b444793f",
      "metadata": {
        "id": "b444793f"
      },
      "outputs": [],
      "source": [
        "import time"
      ]
    },
    {
      "cell_type": "code",
      "execution_count": null,
      "id": "c262c241",
      "metadata": {
        "id": "c262c241",
        "outputId": "7eaac59b-f59d-4747-f853-07acc82c73cd"
      },
      "outputs": [
        {
          "name": "stderr",
          "output_type": "stream",
          "text": [
            "[nltk_data] Downloading package stopwords to\n",
            "[nltk_data]     /Users/yihangyang/nltk_data...\n",
            "[nltk_data]   Package stopwords is already up-to-date!\n"
          ]
        }
      ],
      "source": [
        "# RE Library for Regular Expression\n",
        "import re\n",
        "\n",
        "# NLTK Library for Natural Language Processing\n",
        "import nltk\n",
        "nltk.download('stopwords') # Downloading the Stopwords\n",
        "\n",
        "# Stopwords for removing stopwords in the Text\n",
        "from nltk.corpus import stopwords\n",
        "\n",
        "# PorterStemmer for Stemming the Words\n",
        "from nltk.stem.porter import PorterStemmer"
      ]
    },
    {
      "cell_type": "code",
      "execution_count": null,
      "id": "27a01777",
      "metadata": {
        "id": "27a01777"
      },
      "outputs": [],
      "source": [
        "from keras.utils import to_categorical\n",
        "from sklearn.model_selection import StratifiedKFold"
      ]
    },
    {
      "cell_type": "code",
      "execution_count": null,
      "id": "8db50986",
      "metadata": {
        "id": "8db50986",
        "outputId": "e78a5e61-6bea-4b38-fb98-06ac4062129d"
      },
      "outputs": [
        {
          "name": "stdout",
          "output_type": "stream",
          "text": [
            "idx         1821\n",
            "sentence    1821\n",
            "label       1821\n",
            "dtype: int64\n"
          ]
        },
        {
          "data": {
            "text/html": [
              "<div>\n",
              "<style scoped>\n",
              "    .dataframe tbody tr th:only-of-type {\n",
              "        vertical-align: middle;\n",
              "    }\n",
              "\n",
              "    .dataframe tbody tr th {\n",
              "        vertical-align: top;\n",
              "    }\n",
              "\n",
              "    .dataframe thead th {\n",
              "        text-align: right;\n",
              "    }\n",
              "</style>\n",
              "<table border=\"1\" class=\"dataframe\">\n",
              "  <thead>\n",
              "    <tr style=\"text-align: right;\">\n",
              "      <th></th>\n",
              "      <th>idx</th>\n",
              "      <th>sentence</th>\n",
              "      <th>label</th>\n",
              "    </tr>\n",
              "  </thead>\n",
              "  <tbody>\n",
              "    <tr>\n",
              "      <th>0</th>\n",
              "      <td>0</td>\n",
              "      <td>uneasy mishmash of styles and genres .</td>\n",
              "      <td>-1</td>\n",
              "    </tr>\n",
              "    <tr>\n",
              "      <th>1</th>\n",
              "      <td>1</td>\n",
              "      <td>this film 's relationship to actual tension is...</td>\n",
              "      <td>-1</td>\n",
              "    </tr>\n",
              "    <tr>\n",
              "      <th>2</th>\n",
              "      <td>2</td>\n",
              "      <td>by the end of no such thing the audience , lik...</td>\n",
              "      <td>-1</td>\n",
              "    </tr>\n",
              "    <tr>\n",
              "      <th>3</th>\n",
              "      <td>3</td>\n",
              "      <td>director rob marshall went out gunning to make...</td>\n",
              "      <td>-1</td>\n",
              "    </tr>\n",
              "    <tr>\n",
              "      <th>4</th>\n",
              "      <td>4</td>\n",
              "      <td>lathan and diggs have considerable personal ch...</td>\n",
              "      <td>-1</td>\n",
              "    </tr>\n",
              "  </tbody>\n",
              "</table>\n",
              "</div>"
            ],
            "text/plain": [
              "   idx                                           sentence  label\n",
              "0    0             uneasy mishmash of styles and genres .     -1\n",
              "1    1  this film 's relationship to actual tension is...     -1\n",
              "2    2  by the end of no such thing the audience , lik...     -1\n",
              "3    3  director rob marshall went out gunning to make...     -1\n",
              "4    4  lathan and diggs have considerable personal ch...     -1"
            ]
          },
          "execution_count": 10,
          "metadata": {},
          "output_type": "execute_result"
        }
      ],
      "source": [
        "test_data = read_parquet(\"test.parquet\")\n",
        "print(test_data.count())\n",
        "test_data.head()"
      ]
    },
    {
      "cell_type": "code",
      "execution_count": null,
      "id": "ce950900",
      "metadata": {
        "id": "ce950900",
        "outputId": "7013536c-b7e1-4ed3-bdee-d0298c3c1c20"
      },
      "outputs": [
        {
          "name": "stdout",
          "output_type": "stream",
          "text": [
            "idx         67349\n",
            "sentence    67349\n",
            "label       67349\n",
            "dtype: int64\n"
          ]
        },
        {
          "data": {
            "text/html": [
              "<div>\n",
              "<style scoped>\n",
              "    .dataframe tbody tr th:only-of-type {\n",
              "        vertical-align: middle;\n",
              "    }\n",
              "\n",
              "    .dataframe tbody tr th {\n",
              "        vertical-align: top;\n",
              "    }\n",
              "\n",
              "    .dataframe thead th {\n",
              "        text-align: right;\n",
              "    }\n",
              "</style>\n",
              "<table border=\"1\" class=\"dataframe\">\n",
              "  <thead>\n",
              "    <tr style=\"text-align: right;\">\n",
              "      <th></th>\n",
              "      <th>idx</th>\n",
              "      <th>sentence</th>\n",
              "      <th>label</th>\n",
              "    </tr>\n",
              "  </thead>\n",
              "  <tbody>\n",
              "    <tr>\n",
              "      <th>0</th>\n",
              "      <td>0</td>\n",
              "      <td>hide new secretions from the parental units</td>\n",
              "      <td>0</td>\n",
              "    </tr>\n",
              "    <tr>\n",
              "      <th>1</th>\n",
              "      <td>1</td>\n",
              "      <td>contains no wit , only labored gags</td>\n",
              "      <td>0</td>\n",
              "    </tr>\n",
              "    <tr>\n",
              "      <th>2</th>\n",
              "      <td>2</td>\n",
              "      <td>that loves its characters and communicates som...</td>\n",
              "      <td>1</td>\n",
              "    </tr>\n",
              "    <tr>\n",
              "      <th>3</th>\n",
              "      <td>3</td>\n",
              "      <td>remains utterly satisfied to remain the same t...</td>\n",
              "      <td>0</td>\n",
              "    </tr>\n",
              "    <tr>\n",
              "      <th>4</th>\n",
              "      <td>4</td>\n",
              "      <td>on the worst revenge-of-the-nerds clichés the ...</td>\n",
              "      <td>0</td>\n",
              "    </tr>\n",
              "  </tbody>\n",
              "</table>\n",
              "</div>"
            ],
            "text/plain": [
              "   idx                                           sentence  label\n",
              "0    0       hide new secretions from the parental units       0\n",
              "1    1               contains no wit , only labored gags       0\n",
              "2    2  that loves its characters and communicates som...      1\n",
              "3    3  remains utterly satisfied to remain the same t...      0\n",
              "4    4  on the worst revenge-of-the-nerds clichés the ...      0"
            ]
          },
          "execution_count": 11,
          "metadata": {},
          "output_type": "execute_result"
        }
      ],
      "source": [
        "train_data = read_parquet(\"train.parquet\")\n",
        "print(train_data.count())\n",
        "train_data.head()"
      ]
    },
    {
      "cell_type": "code",
      "execution_count": null,
      "id": "e5593f7c",
      "metadata": {
        "id": "e5593f7c",
        "outputId": "63c3829d-2817-4f85-e11c-2015ac96b259"
      },
      "outputs": [
        {
          "name": "stdout",
          "output_type": "stream",
          "text": [
            "idx         872\n",
            "sentence    872\n",
            "label       872\n",
            "dtype: int64\n"
          ]
        },
        {
          "data": {
            "text/html": [
              "<div>\n",
              "<style scoped>\n",
              "    .dataframe tbody tr th:only-of-type {\n",
              "        vertical-align: middle;\n",
              "    }\n",
              "\n",
              "    .dataframe tbody tr th {\n",
              "        vertical-align: top;\n",
              "    }\n",
              "\n",
              "    .dataframe thead th {\n",
              "        text-align: right;\n",
              "    }\n",
              "</style>\n",
              "<table border=\"1\" class=\"dataframe\">\n",
              "  <thead>\n",
              "    <tr style=\"text-align: right;\">\n",
              "      <th></th>\n",
              "      <th>idx</th>\n",
              "      <th>sentence</th>\n",
              "      <th>label</th>\n",
              "    </tr>\n",
              "  </thead>\n",
              "  <tbody>\n",
              "    <tr>\n",
              "      <th>0</th>\n",
              "      <td>0</td>\n",
              "      <td>it 's a charming and often affecting journey .</td>\n",
              "      <td>1</td>\n",
              "    </tr>\n",
              "    <tr>\n",
              "      <th>1</th>\n",
              "      <td>1</td>\n",
              "      <td>unflinchingly bleak and desperate</td>\n",
              "      <td>0</td>\n",
              "    </tr>\n",
              "    <tr>\n",
              "      <th>2</th>\n",
              "      <td>2</td>\n",
              "      <td>allows us to hope that nolan is poised to emba...</td>\n",
              "      <td>1</td>\n",
              "    </tr>\n",
              "    <tr>\n",
              "      <th>3</th>\n",
              "      <td>3</td>\n",
              "      <td>the acting , costumes , music , cinematography...</td>\n",
              "      <td>1</td>\n",
              "    </tr>\n",
              "    <tr>\n",
              "      <th>4</th>\n",
              "      <td>4</td>\n",
              "      <td>it 's slow -- very , very slow .</td>\n",
              "      <td>0</td>\n",
              "    </tr>\n",
              "  </tbody>\n",
              "</table>\n",
              "</div>"
            ],
            "text/plain": [
              "   idx                                           sentence  label\n",
              "0    0    it 's a charming and often affecting journey .       1\n",
              "1    1                 unflinchingly bleak and desperate       0\n",
              "2    2  allows us to hope that nolan is poised to emba...      1\n",
              "3    3  the acting , costumes , music , cinematography...      1\n",
              "4    4                  it 's slow -- very , very slow .       0"
            ]
          },
          "execution_count": 12,
          "metadata": {},
          "output_type": "execute_result"
        }
      ],
      "source": [
        "val_data = read_parquet(\"validation.parquet\")\n",
        "print(val_data.count())\n",
        "val_data.head()"
      ]
    },
    {
      "cell_type": "code",
      "execution_count": null,
      "id": "0d0f5081",
      "metadata": {
        "id": "0d0f5081"
      },
      "outputs": [],
      "source": [
        "data_list = [train_data, test_data, val_data]\n",
        "data = pd.concat(data_list, ignore_index=True)\n"
      ]
    },
    {
      "cell_type": "code",
      "execution_count": null,
      "id": "a394e51e",
      "metadata": {
        "id": "a394e51e",
        "outputId": "804b750c-37d3-451a-a606-bb6f77f2da8c"
      },
      "outputs": [
        {
          "data": {
            "text/plain": [
              "<Axes: xlabel='label'>"
            ]
          },
          "execution_count": 14,
          "metadata": {},
          "output_type": "execute_result"
        },
        {
          "data": {
            "image/png": "[encoded data removed]",
            "text/plain": [
              "<Figure size 640x480 with 1 Axes>"
            ]
          },
          "metadata": {},
          "output_type": "display_data"
        }
      ],
      "source": [
        "data['label'].value_counts().plot(kind='bar')"
      ]
    },
    {
      "cell_type": "code",
      "execution_count": null,
      "id": "797b76c5",
      "metadata": {
        "id": "797b76c5"
      },
      "outputs": [],
      "source": [
        "shuffled_df = data.sample(frac=1, random_state=42).reset_index(drop=True)"
      ]
    },
    {
      "cell_type": "code",
      "execution_count": null,
      "id": "4281b551",
      "metadata": {
        "id": "4281b551"
      },
      "outputs": [],
      "source": [
        "train_data = shuffled_df[0:67349]\n",
        "val_data = shuffled_df[67349:67349+872]\n",
        "test_data = shuffled_df[-1821:]\n",
        "#keep original length after shuffled"
      ]
    },
    {
      "cell_type": "code",
      "execution_count": null,
      "id": "91dfcc79",
      "metadata": {
        "id": "91dfcc79"
      },
      "outputs": [],
      "source": [
        "data_list = [train_data, test_data, val_data]"
      ]
    },
    {
      "cell_type": "code",
      "execution_count": null,
      "id": "1c965067",
      "metadata": {
        "id": "1c965067",
        "outputId": "aa292659-4e97-4ef6-d8ec-6ae52ec425f9"
      },
      "outputs": [
        {
          "name": "stdout",
          "output_type": "stream",
          "text": [
            "(67349,)\n"
          ]
        }
      ],
      "source": [
        "Y_train = train_data['label']\n",
        "Y_train = np.array(Y_train)\n",
        "print(Y_train.shape)# Shuffle the rows randomly\n",
        "\n"
      ]
    },
    {
      "cell_type": "code",
      "execution_count": null,
      "id": "539289b0",
      "metadata": {
        "id": "539289b0"
      },
      "outputs": [],
      "source": [
        "Y_val = np.array(val_data['label'])"
      ]
    },
    {
      "cell_type": "markdown",
      "id": "4a628ff6",
      "metadata": {
        "id": "4a628ff6"
      },
      "source": [
        "NLP techniques I apply include textcleaning, tokenization (splitting words), stopword removal and stemming."
      ]
    },
    {
      "cell_type": "code",
      "execution_count": null,
      "id": "59fb438b",
      "metadata": {
        "id": "59fb438b"
      },
      "outputs": [],
      "source": [
        "important_words = {'no','not','only','few','most','more','nor','just',\"don't\"}"
      ]
    },
    {
      "cell_type": "code",
      "execution_count": null,
      "id": "4d8baeb5",
      "metadata": {
        "id": "4d8baeb5",
        "outputId": "78b6074a-704a-47a6-ce5d-db3c79c86f00"
      },
      "outputs": [
        {
          "data": {
            "text/plain": [
              "['i',\n",
              " 'me',\n",
              " 'my',\n",
              " 'myself',\n",
              " 'we',\n",
              " 'our',\n",
              " 'ours',\n",
              " 'ourselves',\n",
              " 'you',\n",
              " \"you're\",\n",
              " \"you've\",\n",
              " \"you'll\",\n",
              " \"you'd\",\n",
              " 'your',\n",
              " 'yours',\n",
              " 'yourself',\n",
              " 'yourselves',\n",
              " 'he',\n",
              " 'him',\n",
              " 'his',\n",
              " 'himself',\n",
              " 'she',\n",
              " \"she's\",\n",
              " 'her',\n",
              " 'hers',\n",
              " 'herself',\n",
              " 'it',\n",
              " \"it's\",\n",
              " 'its',\n",
              " 'itself',\n",
              " 'they',\n",
              " 'them',\n",
              " 'their',\n",
              " 'theirs',\n",
              " 'themselves',\n",
              " 'what',\n",
              " 'which',\n",
              " 'who',\n",
              " 'whom',\n",
              " 'this',\n",
              " 'that',\n",
              " \"that'll\",\n",
              " 'these',\n",
              " 'those',\n",
              " 'am',\n",
              " 'is',\n",
              " 'are',\n",
              " 'was',\n",
              " 'were',\n",
              " 'be',\n",
              " 'been',\n",
              " 'being',\n",
              " 'have',\n",
              " 'has',\n",
              " 'had',\n",
              " 'having',\n",
              " 'do',\n",
              " 'does',\n",
              " 'did',\n",
              " 'doing',\n",
              " 'a',\n",
              " 'an',\n",
              " 'the',\n",
              " 'and',\n",
              " 'but',\n",
              " 'if',\n",
              " 'or',\n",
              " 'because',\n",
              " 'as',\n",
              " 'until',\n",
              " 'while',\n",
              " 'of',\n",
              " 'at',\n",
              " 'by',\n",
              " 'for',\n",
              " 'with',\n",
              " 'about',\n",
              " 'against',\n",
              " 'between',\n",
              " 'into',\n",
              " 'through',\n",
              " 'during',\n",
              " 'before',\n",
              " 'after',\n",
              " 'above',\n",
              " 'below',\n",
              " 'to',\n",
              " 'from',\n",
              " 'up',\n",
              " 'down',\n",
              " 'in',\n",
              " 'out',\n",
              " 'on',\n",
              " 'off',\n",
              " 'over',\n",
              " 'under',\n",
              " 'again',\n",
              " 'further',\n",
              " 'then',\n",
              " 'once',\n",
              " 'here',\n",
              " 'there',\n",
              " 'when',\n",
              " 'where',\n",
              " 'why',\n",
              " 'how',\n",
              " 'all',\n",
              " 'any',\n",
              " 'both',\n",
              " 'each',\n",
              " 'few',\n",
              " 'more',\n",
              " 'most',\n",
              " 'other',\n",
              " 'some',\n",
              " 'such',\n",
              " 'no',\n",
              " 'nor',\n",
              " 'not',\n",
              " 'only',\n",
              " 'own',\n",
              " 'same',\n",
              " 'so',\n",
              " 'than',\n",
              " 'too',\n",
              " 'very',\n",
              " 's',\n",
              " 't',\n",
              " 'can',\n",
              " 'will',\n",
              " 'just',\n",
              " 'don',\n",
              " \"don't\",\n",
              " 'should',\n",
              " \"should've\",\n",
              " 'now',\n",
              " 'd',\n",
              " 'll',\n",
              " 'm',\n",
              " 'o',\n",
              " 're',\n",
              " 've',\n",
              " 'y',\n",
              " 'ain',\n",
              " 'aren',\n",
              " \"aren't\",\n",
              " 'couldn',\n",
              " \"couldn't\",\n",
              " 'didn',\n",
              " \"didn't\",\n",
              " 'doesn',\n",
              " \"doesn't\",\n",
              " 'hadn',\n",
              " \"hadn't\",\n",
              " 'hasn',\n",
              " \"hasn't\",\n",
              " 'haven',\n",
              " \"haven't\",\n",
              " 'isn',\n",
              " \"isn't\",\n",
              " 'ma',\n",
              " 'mightn',\n",
              " \"mightn't\",\n",
              " 'mustn',\n",
              " \"mustn't\",\n",
              " 'needn',\n",
              " \"needn't\",\n",
              " 'shan',\n",
              " \"shan't\",\n",
              " 'shouldn',\n",
              " \"shouldn't\",\n",
              " 'wasn',\n",
              " \"wasn't\",\n",
              " 'weren',\n",
              " \"weren't\",\n",
              " 'won',\n",
              " \"won't\",\n",
              " 'wouldn',\n",
              " \"wouldn't\"]"
            ]
          },
          "execution_count": 15,
          "metadata": {},
          "output_type": "execute_result"
        }
      ],
      "source": [
        "stopwords.words('english')"
      ]
    },
    {
      "cell_type": "code",
      "execution_count": null,
      "id": "205bef79",
      "metadata": {
        "id": "205bef79",
        "outputId": "7dd3f90d-9a48-4ddb-c12d-e7f57ec68ab5"
      },
      "outputs": [
        {
          "data": {
            "text/plain": [
              "['aren',\n",
              " \"aren't\",\n",
              " 'couldn',\n",
              " \"couldn't\",\n",
              " 'didn',\n",
              " \"didn't\",\n",
              " 'doesn',\n",
              " \"doesn't\",\n",
              " 'hadn',\n",
              " \"hadn't\",\n",
              " 'hasn',\n",
              " \"hasn't\",\n",
              " 'haven',\n",
              " \"haven't\",\n",
              " 'isn',\n",
              " \"isn't\",\n",
              " 'ma',\n",
              " 'mightn',\n",
              " \"mightn't\",\n",
              " 'mustn',\n",
              " \"mustn't\",\n",
              " 'needn',\n",
              " \"needn't\",\n",
              " 'shan',\n",
              " \"shan't\",\n",
              " 'shouldn',\n",
              " \"shouldn't\",\n",
              " 'wasn',\n",
              " \"wasn't\",\n",
              " 'weren',\n",
              " \"weren't\",\n",
              " 'won',\n",
              " \"won't\",\n",
              " 'wouldn',\n",
              " \"wouldn't\"]"
            ]
          },
          "execution_count": 31,
          "metadata": {},
          "output_type": "execute_result"
        }
      ],
      "source": [
        "stopwords.words('english')[144:]"
      ]
    },
    {
      "cell_type": "code",
      "execution_count": null,
      "id": "05135132",
      "metadata": {
        "id": "05135132"
      },
      "outputs": [],
      "source": [
        "mod_stopwords = set(stopwords.words('english')[:144])\n",
        "mod_stopwords = (mod_stopwords - important_words) | {'would','could','us','one'}"
      ]
    },
    {
      "cell_type": "code",
      "execution_count": null,
      "id": "fe4b2ad6",
      "metadata": {
        "id": "fe4b2ad6",
        "outputId": "51d7f9b0-c551-4db0-9fe3-b572f036d4b9"
      },
      "outputs": [
        {
          "data": {
            "text/plain": [
              "['subzero version',\n",
              " 'sheer beauti imag',\n",
              " 'f rom perform cinematographi outstand soundtrack unconvent narr film blazingli aliv admir mani level',\n",
              " 'monotoni',\n",
              " 'intox show']"
            ]
          },
          "execution_count": 52,
          "metadata": {},
          "output_type": "execute_result"
        }
      ],
      "source": [
        "ps = PorterStemmer()\n",
        "corpus = [None,None,None]\n",
        "for i in range(len(data_list)):\n",
        "    #print(data_list[i])\n",
        "    data_item = data_list[i]\n",
        "    #print(data_item)\n",
        "    corpus_item = []\n",
        "    for j in range(0, len(data_item)):\n",
        "        review = re.sub('[^a-zA-Z]', ' ', data_item.iloc[j]['sentence']) #textcleaning\n",
        "        review = review.split() #tokenization\n",
        "        review = [ps.stem(word) for word in review if not word in mod_stopwords]\n",
        "        review = ' '.join(review)\n",
        "        corpus_item.append(review)\n",
        "    corpus[i] = corpus_item\n",
        "\n",
        "# Printing the first 5 values in the corpus list\n",
        "corpus[0][1:6]"
      ]
    },
    {
      "cell_type": "markdown",
      "id": "55326303",
      "metadata": {
        "id": "55326303"
      },
      "source": [
        "To extract features, I plan to combine Word2Vec and N-Gram to generate feature maps that will serve as input to multiple classifiers."
      ]
    },
    {
      "cell_type": "code",
      "execution_count": null,
      "id": "7d1321e6",
      "metadata": {
        "id": "7d1321e6",
        "outputId": "3140ba69-538e-4b7b-9678-97acae8d5aa1"
      },
      "outputs": [
        {
          "name": "stdout",
          "output_type": "stream",
          "text": [
            "Best max_features: {'vectorizer__max_features': 1000}\n",
            "Best cross-validation accuracy: 0.7449998459439128\n",
            "Accuracy on validation set: 0.7534\n"
          ]
        }
      ],
      "source": [
        "\n",
        "#Use gridsearch to find best vectorsize for n-grams (1000)\n",
        "\n",
        "# Define the pipeline\n",
        "pipeline = Pipeline([\n",
        "    ('vectorizer', CountVectorizer(ngram_range=(1, 2))),\n",
        "    ('classifier', MultinomialNB())\n",
        "])\n",
        "\n",
        "# Define the hyperparameter grid\n",
        "param_grid = {\n",
        "    'vectorizer__max_features': [200,500, 800, 1000]\n",
        "}\n",
        "\n",
        "# Perform grid search with cross-validation\n",
        "grid = GridSearchCV(pipeline, param_grid, cv=5, scoring='accuracy', return_train_score=True)\n",
        "grid.fit(corpus[0], Y_train)\n",
        "\n",
        "# Print best parameter and corresponding accuracy\n",
        "print(\"Best max_features:\", grid.best_params_)\n",
        "print(\"Best cross-validation accuracy:\", grid.best_score_)\n",
        "\n",
        "# Evaluate on the test set\n",
        "best_model = grid.best_estimator_  # Extract the best model from GridSearchCV\n",
        "Y_val_pred = best_model.predict(corpus[2])  # Make predictions on the val set\n",
        "test_accuracy = accuracy_score(Y_val, Y_val_pred)\n",
        "\n",
        "print(f\"Accuracy on validation set: {test_accuracy:.4f}\")"
      ]
    },
    {
      "cell_type": "code",
      "execution_count": null,
      "id": "dc797a5f",
      "metadata": {
        "id": "dc797a5f"
      },
      "outputs": [],
      "source": [
        "#N-gram vectorizer: indicate frequencies of the vocabulary\n",
        "\n",
        "vectorizer = CountVectorizer(ngram_range=(1, 2), max_features=1000)\n",
        "X_ngram = vectorizer.fit_transform(corpus[0]).toarray()\n",
        "X_val_ngram = vectorizer.fit_transform(corpus[2]).toarray()\n",
        "\n",
        "\n"
      ]
    },
    {
      "cell_type": "code",
      "execution_count": null,
      "id": "9e24ed9e",
      "metadata": {
        "id": "9e24ed9e"
      },
      "outputs": [],
      "source": []
    },
    {
      "cell_type": "code",
      "execution_count": null,
      "id": "7b1ba417",
      "metadata": {
        "id": "7b1ba417"
      },
      "outputs": [],
      "source": []
    },
    {
      "cell_type": "code",
      "execution_count": null,
      "id": "1b2d789e",
      "metadata": {
        "id": "1b2d789e"
      },
      "outputs": [],
      "source": []
    },
    {
      "cell_type": "code",
      "execution_count": null,
      "id": "d917af88",
      "metadata": {
        "id": "d917af88"
      },
      "outputs": [],
      "source": []
    },
    {
      "cell_type": "code",
      "execution_count": null,
      "id": "160c6548",
      "metadata": {
        "id": "160c6548"
      },
      "outputs": [],
      "source": [
        "from gensim.models import Word2Vec"
      ]
    },
    {
      "cell_type": "code",
      "execution_count": null,
      "id": "4a9c3460",
      "metadata": {
        "id": "4a9c3460"
      },
      "outputs": [],
      "source": [
        "#Word2Vec is a 2-layer neural network model to extract features\n",
        "tokenized_corpus = [sentence.split() for sentence in corpus[0]]\n",
        "\n",
        "w2v_model = Word2Vec(sentences=tokenized_corpus, vector_size=500, min_count=1, workers=4)"
      ]
    },
    {
      "cell_type": "code",
      "execution_count": null,
      "id": "40a53341",
      "metadata": {
        "id": "40a53341",
        "outputId": "0a42a723-6c14-45ca-b31a-e30d65c15816"
      },
      "outputs": [
        {
          "name": "stdout",
          "output_type": "stream",
          "text": [
            "Word2Vec Embedding for First Sentence:\n",
            " [ 0.04084814  0.10459438  0.15509938  0.14370911 -0.09598421 -0.17787018\n",
            " -0.02711659  0.2830354   0.06176409 -0.04201972 -0.07946269  0.11865851\n",
            " -0.05707281  0.01412908  0.07245509 -0.20779525 -0.17897494 -0.09192131\n",
            "  0.01683621 -0.00578837  0.0170438  -0.04536177  0.16699032 -0.07312913\n",
            "  0.07576555  0.04559565  0.0299239   0.02471589 -0.28388292 -0.07039511\n",
            "  0.08653116  0.01580531 -0.0248969  -0.09796158  0.07739273  0.01388026\n",
            " -0.04393767 -0.13001896 -0.04284158 -0.22743167 -0.03392762  0.0205349\n",
            " -0.22444452  0.09065197 -0.10749879 -0.11479199 -0.09984898  0.08908024\n",
            " -0.01940112  0.00652712 -0.01369413  0.0084204  -0.04654437 -0.15231065\n",
            "  0.04139282 -0.05530087  0.13659054 -0.03381889 -0.01118298  0.04812726\n",
            "  0.09639563  0.06736723 -0.0334727  -0.06425188 -0.05030757  0.13762385\n",
            " -0.0771271   0.084408    0.10299701  0.01034339 -0.12293702  0.07937682\n",
            "  0.06839343 -0.06552234  0.17721987  0.1712493  -0.03080879  0.04971343\n",
            "  0.10322207  0.1030369  -0.06086765  0.02122113 -0.09782399  0.12459859\n",
            " -0.23776706  0.04349526 -0.04106727  0.1003912   0.13283865  0.20462266\n",
            "  0.00372901  0.06542011 -0.15363123  0.13857228  0.07566914  0.07503974\n",
            "  0.08914551  0.00432708  0.13350746  0.10164878 -0.13504457 -0.0126075\n",
            " -0.105253    0.0481935   0.02618205  0.00580259 -0.03091578  0.18867658\n",
            " -0.04243073  0.04682792 -0.0321574  -0.15378116  0.04686247  0.10753628\n",
            " -0.06374544  0.07774106  0.06176333 -0.20746303  0.10967711 -0.08129726\n",
            " -0.07799002 -0.03500175  0.1582495  -0.0527364   0.03942791  0.08081681\n",
            " -0.19156653  0.08715114 -0.14609434  0.06880663  0.25091815  0.08244675\n",
            " -0.10113531 -0.11819735  0.05037824  0.19649605  0.02091744 -0.09568869\n",
            " -0.14424255 -0.28999618  0.09514514 -0.16635346  0.02052979 -0.02803789\n",
            "  0.10512135  0.08202165 -0.00473746 -0.11137211  0.08811843  0.16405194\n",
            "  0.05690438 -0.07473906 -0.07233984  0.16990964 -0.20800456  0.03480211\n",
            "  0.05392649 -0.07513294 -0.08559225  0.04411632  0.02065735  0.10584345\n",
            " -0.10089186 -0.08467696 -0.08243908  0.14563298  0.23636675  0.09804729\n",
            "  0.15086251  0.08926284  0.07471593  0.17468697  0.00928735  0.15525164\n",
            " -0.00977599 -0.0553515   0.01116283 -0.0022026  -0.03624862  0.10386723\n",
            " -0.0436368   0.00361926  0.07128179  0.01965487 -0.02901421 -0.07689866\n",
            " -0.14374791  0.11627349 -0.1012802   0.00141359  0.15269266 -0.10749877\n",
            "  0.13868669  0.00986078  0.02191746  0.02082823  0.02113133 -0.01621247\n",
            "  0.00851243  0.07150959 -0.03757876  0.05784971  0.11516937  0.10281411\n",
            "  0.02967459  0.02049491  0.05525537 -0.02536743 -0.2188579  -0.01044769\n",
            " -0.05123295 -0.13035682 -0.10454354 -0.04817787  0.02680656 -0.16652746\n",
            " -0.09961205 -0.00614996 -0.09536883 -0.06746878  0.15389034  0.18288031\n",
            "  0.0166225   0.11396371  0.01618944  0.00810146  0.20310076 -0.04820253\n",
            "  0.04226891 -0.01290048 -0.07738045 -0.0768768  -0.04202007 -0.09074435\n",
            " -0.03515251  0.02387302  0.05318614 -0.18969849  0.18165933 -0.08150131\n",
            "  0.00662991 -0.0798957  -0.24069078  0.11445358 -0.09447927 -0.07335158\n",
            " -0.04241113  0.08312163  0.08267626  0.05608378  0.01122331 -0.16860384\n",
            "  0.01494963 -0.04626027 -0.08439633  0.10153352  0.11885006  0.19133033\n",
            " -0.16146013  0.11181781 -0.14737505  0.13590552 -0.22383478  0.04318302\n",
            "  0.00304553 -0.00172422 -0.11556845  0.18649441 -0.12410887  0.02388299\n",
            " -0.13138194  0.06732221  0.15633202 -0.00047386 -0.04377583  0.0208095\n",
            " -0.08913157 -0.11737772 -0.06206127  0.03864023  0.01650562  0.04558977\n",
            " -0.13966319 -0.1038343   0.24449661 -0.14150883  0.03250787 -0.07008425\n",
            "  0.08801627  0.01453022 -0.12701924  0.22509667  0.00612161  0.01860823\n",
            "  0.06107314 -0.03577884  0.12087691 -0.20078135  0.17619954 -0.07156692\n",
            " -0.07776327  0.00118973  0.10223891  0.01897389  0.03795476 -0.12353298\n",
            "  0.00688417  0.119938    0.06081849 -0.03990137  0.02957251 -0.18266672\n",
            "  0.10528455  0.12365328  0.07133484 -0.03338878  0.02532599 -0.15649553\n",
            " -0.06460807 -0.02577705  0.116992   -0.00187166 -0.03325649 -0.09290358\n",
            " -0.10566419 -0.14539294 -0.04982666 -0.08509487  0.0808685  -0.01517965\n",
            "  0.02843118  0.13279192 -0.07854837  0.0736457   0.00524304 -0.1414569\n",
            "  0.02089782  0.16155846 -0.04537029 -0.12748966 -0.07506983  0.02336921\n",
            "  0.10677908 -0.22729786  0.03138494  0.02122701 -0.28623819  0.07473443\n",
            " -0.03316321  0.10263863 -0.03493291  0.02891556 -0.16268203  0.10285616\n",
            " -0.149896    0.14241081 -0.08645932 -0.03222694  0.01469704 -0.03376175\n",
            " -0.00533431  0.12539552 -0.05018757  0.0093159  -0.03559078 -0.0234328\n",
            "  0.03191824 -0.07389802 -0.18714492  0.07861951  0.00289028 -0.14998212\n",
            " -0.03509297 -0.10471869 -0.14295608 -0.14291202 -0.01991443  0.15526983\n",
            " -0.00942943  0.01419709  0.04652833 -0.01428797  0.15873085  0.06121506\n",
            "  0.01092424  0.00628947  0.03100701  0.09404203  0.02940344 -0.0219826\n",
            " -0.09501675 -0.02444785 -0.00666311 -0.03057309  0.20103441  0.19632734\n",
            "  0.09898222  0.00043688 -0.05273761  0.12478765 -0.06350918  0.06369818\n",
            " -0.08650365 -0.14745538 -0.05766685 -0.15097669  0.0087488   0.06785031\n",
            "  0.05302764  0.03558179 -0.10970666 -0.11508735 -0.13864428 -0.11573063\n",
            "  0.05057735  0.08141795  0.11461791 -0.06546886  0.11239294 -0.15557119\n",
            " -0.08048552  0.07616273 -0.11731207  0.0858985  -0.09470779  0.02904772\n",
            " -0.05186314 -0.0280013  -0.12067941 -0.10005439 -0.01133508  0.0009067\n",
            " -0.01330767  0.03775077 -0.04266327  0.01337897  0.00168501  0.04713393\n",
            " -0.04052562  0.0294788  -0.02188636 -0.01548096  0.10607345 -0.07101406\n",
            "  0.27442598  0.04423435  0.11345124  0.06990787 -0.14678925 -0.00969323\n",
            "  0.02056339  0.03691775 -0.04175659 -0.15697969 -0.00843753  0.02856483\n",
            " -0.00052049 -0.0833002   0.08743809  0.025973    0.0489936   0.11463451\n",
            " -0.03192349  0.07857973 -0.23640347 -0.15103906 -0.02970541 -0.22965071\n",
            " -0.04550542  0.10145235 -0.08191969  0.03434626  0.05331806 -0.19528107\n",
            "  0.15718696  0.08654574  0.20366007  0.02314967 -0.21826291 -0.14009583\n",
            "  0.0060999  -0.18719013 -0.07525811  0.10423962  0.03197609  0.10876305\n",
            " -0.1130632   0.15056886  0.09244297  0.01062419  0.05269079 -0.04466165\n",
            "  0.21261398  0.02703414  0.13339625  0.00512652 -0.05863678 -0.12019733\n",
            " -0.11616181 -0.1091885 ]\n"
          ]
        }
      ],
      "source": [
        "\n",
        "# Average Word2Vec embeddings for each sentence\n",
        "def sentence_vector(sentence, model):\n",
        "    vectors = [model.wv[word] for word in sentence if word in model.wv]\n",
        "    return np.mean(vectors, axis=0) if vectors else np.zeros(model.vector_size) #vector_size=500\n",
        "\n",
        "X_word2vec = np.array([sentence_vector(sentence, w2v_model) for sentence in tokenized_corpus])\n",
        "\n",
        "# Print Word2Vec features for the first sentence\n",
        "print(\"Word2Vec Embedding for First Sentence:\\n\", X_word2vec[0])"
      ]
    },
    {
      "cell_type": "code",
      "execution_count": null,
      "id": "2b0f1429",
      "metadata": {
        "id": "2b0f1429"
      },
      "outputs": [],
      "source": [
        "tokenized_corpus_val = [sentence.split() for sentence in corpus[2]]\n",
        "X_val_word2vec = np.array([sentence_vector(sentence, w2v_model) for sentence in tokenized_corpus_val])"
      ]
    },
    {
      "cell_type": "code",
      "execution_count": null,
      "id": "0819e708",
      "metadata": {
        "id": "0819e708",
        "outputId": "5bd92a78-3822-46ed-d1a0-d1143cb6ce83"
      },
      "outputs": [
        {
          "name": "stdout",
          "output_type": "stream",
          "text": [
            "500\n"
          ]
        }
      ],
      "source": [
        "print(len(X_word2vec[0]))\n",
        "# Standardize the feature map for GaussianNB\n",
        "scaler = StandardScaler()\n",
        "X_word2vec_scaled = scaler.fit_transform(X_word2vec)\n"
      ]
    },
    {
      "cell_type": "code",
      "execution_count": null,
      "id": "7f8f0644",
      "metadata": {
        "id": "7f8f0644",
        "outputId": "b5225a5e-fb43-4cc8-ef4b-b74df1f23180"
      },
      "outputs": [
        {
          "name": "stdout",
          "output_type": "stream",
          "text": [
            "-1.0381029369455064e-11 2.1280754936015e-12\n"
          ]
        }
      ],
      "source": [
        "print(np.sum(X_word2vec_scaled[:,0]),np.sum(X_word2vec_scaled[:,1])) #close to 0\n",
        "#print(X_word2vec[0])\n"
      ]
    },
    {
      "cell_type": "code",
      "execution_count": null,
      "id": "7d9ccd9d",
      "metadata": {
        "id": "7d9ccd9d"
      },
      "outputs": [],
      "source": [
        "X_val_word2vec_scaled = scaler.fit_transform(X_val_word2vec)"
      ]
    },
    {
      "cell_type": "code",
      "execution_count": null,
      "id": "55669181",
      "metadata": {
        "id": "55669181",
        "outputId": "8e8ac675-65cd-4eeb-bc62-66e0cd861996"
      },
      "outputs": [
        {
          "name": "stdout",
          "output_type": "stream",
          "text": [
            "Accuracy: 0.33\n"
          ]
        }
      ],
      "source": [
        "# Initialize and fit the GaussianNB model; use only scaled word2vec\n",
        "gnb_classifier = GaussianNB()\n",
        "gnb_classifier.fit(X_word2vec_scaled, Y_train)\n",
        "\n",
        "# Predict on the test set\n",
        "Y_pred = gnb_classifier.predict(X_val_word2vec_scaled)\n",
        "\n",
        "# Evaluate accuracy\n",
        "accuracy = accuracy_score(Y_val, Y_pred)\n",
        "print(f\"Accuracy: {accuracy:.2f}\")"
      ]
    },
    {
      "cell_type": "markdown",
      "id": "ea25b222",
      "metadata": {
        "id": "ea25b222"
      },
      "source": [
        "Since the result of GuassianNB has low accuracy and another bayes classifier MultinormialNB has been applied, I give up this model."
      ]
    },
    {
      "cell_type": "code",
      "execution_count": null,
      "id": "e66b0434",
      "metadata": {
        "id": "e66b0434"
      },
      "outputs": [],
      "source": []
    },
    {
      "cell_type": "code",
      "execution_count": null,
      "id": "f5b2f5a5",
      "metadata": {
        "id": "f5b2f5a5",
        "outputId": "8845c0f4-30c9-4fd4-d723-857d9e49f335"
      },
      "outputs": [
        {
          "name": "stdout",
          "output_type": "stream",
          "text": [
            "Reduced feature size: (67349, 500)\n"
          ]
        }
      ],
      "source": [
        "# Combine CountVectorizer and Word2Vec features\n",
        "\n",
        "# Apply PCA to reduce the dimensions of n-grams map\n",
        "pca = PCA(n_components=500)  # Reduce to 1000 dimensions\n",
        "X_ng_reduced = pca.fit_transform(X_ngram)\n",
        "Xval_ngreduced = pca.fit_transform(X_val_ngram)\n",
        "print(\"Reduced feature size:\", X_ng_reduced.shape)"
      ]
    },
    {
      "cell_type": "code",
      "execution_count": null,
      "id": "99bbfdca",
      "metadata": {
        "id": "99bbfdca",
        "outputId": "8ff87b69-ba6d-40e8-b4d1-01fdc881a788"
      },
      "outputs": [
        {
          "name": "stdout",
          "output_type": "stream",
          "text": [
            "Shape of Combined Features: (67349, 1000)\n"
          ]
        }
      ],
      "source": [
        "#Continue combining\n",
        "X_combined = np.hstack((X_ng_reduced, X_word2vec_scaled))\n",
        "Xval_combined = np.hstack((Xval_ngreduced, X_val_word2vec_scaled))\n",
        "# Print combined feature shape\n",
        "print(\"Shape of Combined Features:\", X_combined.shape)\n"
      ]
    },
    {
      "cell_type": "code",
      "execution_count": null,
      "id": "f03bd25d",
      "metadata": {
        "id": "f03bd25d"
      },
      "outputs": [],
      "source": [
        "X_combined = scaler.fit_transform(X_combined)\n",
        "#do one more scaling to improve learning efficiency"
      ]
    },
    {
      "cell_type": "code",
      "execution_count": null,
      "id": "f606f9b1",
      "metadata": {
        "id": "f606f9b1"
      },
      "outputs": [],
      "source": [
        "Xval_combined = scaler.fit_transform(Xval_combined)"
      ]
    },
    {
      "cell_type": "code",
      "execution_count": null,
      "id": "00312dd0",
      "metadata": {
        "id": "00312dd0"
      },
      "outputs": [],
      "source": [
        "# Initialize the Random Forest Classifier\n",
        "rf = RandomForestClassifier(max_depth=14)\n",
        "\n",
        "# Define the parameter grid for 'n_estimators'\n",
        "param_rf = {'max_depth': list(range(12, 15)), 'max_features': list(range(10,15))} #20 models\n",
        "\n",
        "\n",
        "# Set up GridSearchCV\n",
        "grid = GridSearchCV(estimator=rf, param_grid=param_rf, scoring='accuracy', n_jobs=-1)\n",
        "\n",
        "# Perform grid search\n",
        "grid.fit(X_combined, Y_train)"
      ]
    },
    {
      "cell_type": "code",
      "execution_count": null,
      "id": "424ae00c",
      "metadata": {
        "id": "424ae00c",
        "outputId": "180310be-841e-4d30-d3ef-5d0c20c919ed"
      },
      "outputs": [
        {
          "name": "stdout",
          "output_type": "stream",
          "text": [
            "Best n_estimators: {'max_depth': 14, 'max_features': 11}\n",
            "Best cross-validation accuracy: 0.8362261241312849\n",
            "Test accuracy with best n_estimators (grid.best_params_): 0.6606\n"
          ]
        }
      ],
      "source": [
        "# Print the best parameter and corresponding score\n",
        "print(\"Best parameters\", grid.best_params_)\n",
        "print(\"Best cross-validation accuracy:\", grid.best_score_)\n",
        "\n",
        "# Evaluate on the test set using the best model\n",
        "best_rf = grid.best_estimator_\n",
        "Y_pred = best_rf.predict(Xval_combined)\n",
        "test_accuracy = accuracy_score(Y_val, Y_pred)\n",
        "print(f\"Test accuracy with best n_estimators (grid.best_params_): {test_accuracy:.4f}\")"
      ]
    },
    {
      "cell_type": "code",
      "execution_count": null,
      "id": "f90263c8",
      "metadata": {
        "id": "f90263c8",
        "outputId": "b3e4d515-287b-4c70-dbfd-3eacb5902371"
      },
      "outputs": [
        {
          "name": "stdout",
          "output_type": "stream",
          "text": [
            "Random Forest Classifier Accuracy: 0.68\n"
          ]
        }
      ],
      "source": [
        "\n",
        "#Random Forest based on X_combined\n",
        "\n",
        "# Initialize the Random Forest Classifier\n",
        "rf_classifier = RandomForestClassifier(max_depth=14,max_features=11)\n",
        "\n",
        "# Train the model on the training data\n",
        "rf_classifier.fit(X_combined, Y_train)\n",
        "\n",
        "# Predict on the test data\n",
        "Y_pred = rf_classifier.predict(Xval_combined)\n",
        "\n",
        "# Evaluate the model's performance\n",
        "accuracy = accuracy_score(Y_val, Y_pred)\n",
        "\n",
        "print(f\"Random Forest Classifier Accuracy: {accuracy:.2f}\")\n"
      ]
    },
    {
      "cell_type": "code",
      "execution_count": null,
      "id": "a9789063",
      "metadata": {
        "id": "a9789063"
      },
      "outputs": [],
      "source": []
    },
    {
      "cell_type": "code",
      "execution_count": null,
      "id": "a7cb1875",
      "metadata": {
        "id": "a7cb1875"
      },
      "outputs": [],
      "source": []
    },
    {
      "cell_type": "code",
      "execution_count": null,
      "id": "7ebbffa2",
      "metadata": {
        "id": "7ebbffa2",
        "outputId": "b6c8abaa-6ba5-4874-b6ca-5a4603e2e8ba"
      },
      "outputs": [
        {
          "name": "stderr",
          "output_type": "stream",
          "text": [
            "/opt/anaconda3/lib/python3.11/site-packages/sklearn/svm/_base.py:299: ConvergenceWarning: Solver terminated early (max_iter=1200).  Consider pre-processing your data with StandardScaler or MinMaxScaler.\n",
            "  warnings.warn(\n",
            "/opt/anaconda3/lib/python3.11/site-packages/sklearn/svm/_base.py:299: ConvergenceWarning: Solver terminated early (max_iter=1200).  Consider pre-processing your data with StandardScaler or MinMaxScaler.\n",
            "  warnings.warn(\n",
            "/opt/anaconda3/lib/python3.11/site-packages/sklearn/svm/_base.py:299: ConvergenceWarning: Solver terminated early (max_iter=1200).  Consider pre-processing your data with StandardScaler or MinMaxScaler.\n",
            "  warnings.warn(\n",
            "/opt/anaconda3/lib/python3.11/site-packages/sklearn/svm/_base.py:299: ConvergenceWarning: Solver terminated early (max_iter=1200).  Consider pre-processing your data with StandardScaler or MinMaxScaler.\n",
            "  warnings.warn(\n",
            "/opt/anaconda3/lib/python3.11/site-packages/sklearn/svm/_base.py:299: ConvergenceWarning: Solver terminated early (max_iter=1200).  Consider pre-processing your data with StandardScaler or MinMaxScaler.\n",
            "  warnings.warn(\n",
            "/opt/anaconda3/lib/python3.11/site-packages/sklearn/svm/_base.py:299: ConvergenceWarning: Solver terminated early (max_iter=1200).  Consider pre-processing your data with StandardScaler or MinMaxScaler.\n",
            "  warnings.warn(\n",
            "/opt/anaconda3/lib/python3.11/site-packages/sklearn/svm/_base.py:299: ConvergenceWarning: Solver terminated early (max_iter=1200).  Consider pre-processing your data with StandardScaler or MinMaxScaler.\n",
            "  warnings.warn(\n",
            "/opt/anaconda3/lib/python3.11/site-packages/sklearn/svm/_base.py:299: ConvergenceWarning: Solver terminated early (max_iter=1200).  Consider pre-processing your data with StandardScaler or MinMaxScaler.\n",
            "  warnings.warn(\n",
            "/opt/anaconda3/lib/python3.11/site-packages/sklearn/svm/_base.py:299: ConvergenceWarning: Solver terminated early (max_iter=1200).  Consider pre-processing your data with StandardScaler or MinMaxScaler.\n",
            "  warnings.warn(\n",
            "/opt/anaconda3/lib/python3.11/site-packages/sklearn/svm/_base.py:299: ConvergenceWarning: Solver terminated early (max_iter=1200).  Consider pre-processing your data with StandardScaler or MinMaxScaler.\n",
            "  warnings.warn(\n",
            "/opt/anaconda3/lib/python3.11/site-packages/sklearn/svm/_base.py:299: ConvergenceWarning: Solver terminated early (max_iter=1200).  Consider pre-processing your data with StandardScaler or MinMaxScaler.\n",
            "  warnings.warn(\n",
            "/opt/anaconda3/lib/python3.11/site-packages/sklearn/svm/_base.py:299: ConvergenceWarning: Solver terminated early (max_iter=1200).  Consider pre-processing your data with StandardScaler or MinMaxScaler.\n",
            "  warnings.warn(\n",
            "/opt/anaconda3/lib/python3.11/site-packages/sklearn/svm/_base.py:299: ConvergenceWarning: Solver terminated early (max_iter=1200).  Consider pre-processing your data with StandardScaler or MinMaxScaler.\n",
            "  warnings.warn(\n",
            "/opt/anaconda3/lib/python3.11/site-packages/sklearn/svm/_base.py:299: ConvergenceWarning: Solver terminated early (max_iter=1200).  Consider pre-processing your data with StandardScaler or MinMaxScaler.\n",
            "  warnings.warn(\n",
            "/opt/anaconda3/lib/python3.11/site-packages/sklearn/svm/_base.py:299: ConvergenceWarning: Solver terminated early (max_iter=1200).  Consider pre-processing your data with StandardScaler or MinMaxScaler.\n",
            "  warnings.warn(\n",
            "/opt/anaconda3/lib/python3.11/site-packages/sklearn/svm/_base.py:299: ConvergenceWarning: Solver terminated early (max_iter=1200).  Consider pre-processing your data with StandardScaler or MinMaxScaler.\n",
            "  warnings.warn(\n",
            "/opt/anaconda3/lib/python3.11/site-packages/sklearn/svm/_base.py:299: ConvergenceWarning: Solver terminated early (max_iter=1200).  Consider pre-processing your data with StandardScaler or MinMaxScaler.\n",
            "  warnings.warn(\n",
            "/opt/anaconda3/lib/python3.11/site-packages/sklearn/svm/_base.py:299: ConvergenceWarning: Solver terminated early (max_iter=1200).  Consider pre-processing your data with StandardScaler or MinMaxScaler.\n",
            "  warnings.warn(\n",
            "/opt/anaconda3/lib/python3.11/site-packages/sklearn/svm/_base.py:299: ConvergenceWarning: Solver terminated early (max_iter=1200).  Consider pre-processing your data with StandardScaler or MinMaxScaler.\n",
            "  warnings.warn(\n",
            "/opt/anaconda3/lib/python3.11/site-packages/sklearn/svm/_base.py:299: ConvergenceWarning: Solver terminated early (max_iter=1200).  Consider pre-processing your data with StandardScaler or MinMaxScaler.\n",
            "  warnings.warn(\n",
            "/opt/anaconda3/lib/python3.11/site-packages/sklearn/svm/_base.py:299: ConvergenceWarning: Solver terminated early (max_iter=1200).  Consider pre-processing your data with StandardScaler or MinMaxScaler.\n",
            "  warnings.warn(\n"
          ]
        },
        {
          "data": {
            "text/html": [
              "<style>#sk-container-id-1 {color: black;background-color: white;}#sk-container-id-1 pre{padding: 0;}#sk-container-id-1 div.sk-toggleable {background-color: white;}#sk-container-id-1 label.sk-toggleable__label {cursor: pointer;display: block;width: 100%;margin-bottom: 0;padding: 0.3em;box-sizing: border-box;text-align: center;}#sk-container-id-1 label.sk-toggleable__label-arrow:before {content: \"▸\";float: left;margin-right: 0.25em;color: #696969;}#sk-container-id-1 label.sk-toggleable__label-arrow:hover:before {color: black;}#sk-container-id-1 div.sk-estimator:hover label.sk-toggleable__label-arrow:before {color: black;}#sk-container-id-1 div.sk-toggleable__content {max-height: 0;max-width: 0;overflow: hidden;text-align: left;background-color: #f0f8ff;}#sk-container-id-1 div.sk-toggleable__content pre {margin: 0.2em;color: black;border-radius: 0.25em;background-color: #f0f8ff;}#sk-container-id-1 input.sk-toggleable__control:checked~div.sk-toggleable__content {max-height: 200px;max-width: 100%;overflow: auto;}#sk-container-id-1 input.sk-toggleable__control:checked~label.sk-toggleable__label-arrow:before {content: \"▾\";}#sk-container-id-1 div.sk-estimator input.sk-toggleable__control:checked~label.sk-toggleable__label {background-color: #d4ebff;}#sk-container-id-1 div.sk-label input.sk-toggleable__control:checked~label.sk-toggleable__label {background-color: #d4ebff;}#sk-container-id-1 input.sk-hidden--visually {border: 0;clip: rect(1px 1px 1px 1px);clip: rect(1px, 1px, 1px, 1px);height: 1px;margin: -1px;overflow: hidden;padding: 0;position: absolute;width: 1px;}#sk-container-id-1 div.sk-estimator {font-family: monospace;background-color: #f0f8ff;border: 1px dotted black;border-radius: 0.25em;box-sizing: border-box;margin-bottom: 0.5em;}#sk-container-id-1 div.sk-estimator:hover {background-color: #d4ebff;}#sk-container-id-1 div.sk-parallel-item::after {content: \"\";width: 100%;border-bottom: 1px solid gray;flex-grow: 1;}#sk-container-id-1 div.sk-label:hover label.sk-toggleable__label {background-color: #d4ebff;}#sk-container-id-1 div.sk-serial::before {content: \"\";position: absolute;border-left: 1px solid gray;box-sizing: border-box;top: 0;bottom: 0;left: 50%;z-index: 0;}#sk-container-id-1 div.sk-serial {display: flex;flex-direction: column;align-items: center;background-color: white;padding-right: 0.2em;padding-left: 0.2em;position: relative;}#sk-container-id-1 div.sk-item {position: relative;z-index: 1;}#sk-container-id-1 div.sk-parallel {display: flex;align-items: stretch;justify-content: center;background-color: white;position: relative;}#sk-container-id-1 div.sk-item::before, #sk-container-id-1 div.sk-parallel-item::before {content: \"\";position: absolute;border-left: 1px solid gray;box-sizing: border-box;top: 0;bottom: 0;left: 50%;z-index: -1;}#sk-container-id-1 div.sk-parallel-item {display: flex;flex-direction: column;z-index: 1;position: relative;background-color: white;}#sk-container-id-1 div.sk-parallel-item:first-child::after {align-self: flex-end;width: 50%;}#sk-container-id-1 div.sk-parallel-item:last-child::after {align-self: flex-start;width: 50%;}#sk-container-id-1 div.sk-parallel-item:only-child::after {width: 0;}#sk-container-id-1 div.sk-dashed-wrapped {border: 1px dashed gray;margin: 0 0.4em 0.5em 0.4em;box-sizing: border-box;padding-bottom: 0.4em;background-color: white;}#sk-container-id-1 div.sk-label label {font-family: monospace;font-weight: bold;display: inline-block;line-height: 1.2em;}#sk-container-id-1 div.sk-label-container {text-align: center;}#sk-container-id-1 div.sk-container {/* jupyter's `normalize.less` sets `[hidden] { display: none; }` but bootstrap.min.css set `[hidden] { display: none !important; }` so we also need the `!important` here to be able to override the default hidden behavior on the sphinx rendered scikit-learn.org. See: https://github.com/scikit-learn/scikit-learn/issues/21755 */display: inline-block !important;position: relative;}#sk-container-id-1 div.sk-text-repr-fallback {display: none;}</style><div id=\"sk-container-id-1\" class=\"sk-top-container\"><div class=\"sk-text-repr-fallback\"><pre>GridSearchCV(estimator=SVC(max_iter=1200),\n",
              "             param_grid=[{&#x27;kernel&#x27;: [&#x27;linear&#x27;]},\n",
              "                         {&#x27;degree&#x27;: [2, 3], &#x27;kernel&#x27;: [&#x27;poly&#x27;]},\n",
              "                         {&#x27;kernel&#x27;: [&#x27;rbf&#x27;]}])</pre><b>In a Jupyter environment, please rerun this cell to show the HTML representation or trust the notebook. <br />On GitHub, the HTML representation is unable to render, please try loading this page with nbviewer.org.</b></div><div class=\"sk-container\" hidden><div class=\"sk-item sk-dashed-wrapped\"><div class=\"sk-label-container\"><div class=\"sk-label sk-toggleable\"><input class=\"sk-toggleable__control sk-hidden--visually\" id=\"sk-estimator-id-1\" type=\"checkbox\" ><label for=\"sk-estimator-id-1\" class=\"sk-toggleable__label sk-toggleable__label-arrow\">GridSearchCV</label><div class=\"sk-toggleable__content\"><pre>GridSearchCV(estimator=SVC(max_iter=1200),\n",
              "             param_grid=[{&#x27;kernel&#x27;: [&#x27;linear&#x27;]},\n",
              "                         {&#x27;degree&#x27;: [2, 3], &#x27;kernel&#x27;: [&#x27;poly&#x27;]},\n",
              "                         {&#x27;kernel&#x27;: [&#x27;rbf&#x27;]}])</pre></div></div></div><div class=\"sk-parallel\"><div class=\"sk-parallel-item\"><div class=\"sk-item\"><div class=\"sk-label-container\"><div class=\"sk-label sk-toggleable\"><input class=\"sk-toggleable__control sk-hidden--visually\" id=\"sk-estimator-id-2\" type=\"checkbox\" ><label for=\"sk-estimator-id-2\" class=\"sk-toggleable__label sk-toggleable__label-arrow\">estimator: SVC</label><div class=\"sk-toggleable__content\"><pre>SVC(max_iter=1200)</pre></div></div></div><div class=\"sk-serial\"><div class=\"sk-item\"><div class=\"sk-estimator sk-toggleable\"><input class=\"sk-toggleable__control sk-hidden--visually\" id=\"sk-estimator-id-3\" type=\"checkbox\" ><label for=\"sk-estimator-id-3\" class=\"sk-toggleable__label sk-toggleable__label-arrow\">SVC</label><div class=\"sk-toggleable__content\"><pre>SVC(max_iter=1200)</pre></div></div></div></div></div></div></div></div></div></div>"
            ],
            "text/plain": [
              "GridSearchCV(estimator=SVC(max_iter=1200),\n",
              "             param_grid=[{'kernel': ['linear']},\n",
              "                         {'degree': [2, 3], 'kernel': ['poly']},\n",
              "                         {'kernel': ['rbf']}])"
            ]
          },
          "execution_count": 40,
          "metadata": {},
          "output_type": "execute_result"
        }
      ],
      "source": [
        "svm = SVC(max_iter=1200)\n",
        "svm_para = [{'kernel': ['linear']},\n",
        "             {'kernel': ['poly'], 'degree': [2, 3]},\n",
        "             {'kernel': ['rbf']}]\n",
        "grid_svc = GridSearchCV(estimator= svm,param_grid=svm_para)\n",
        "grid_svc.fit(X_combined, Y_train)\n"
      ]
    },
    {
      "cell_type": "code",
      "execution_count": null,
      "id": "0088f279",
      "metadata": {
        "id": "0088f279",
        "outputId": "ef01074d-36d1-4a0e-9e6e-6bd6eb672f56"
      },
      "outputs": [
        {
          "name": "stdout",
          "output_type": "stream",
          "text": [
            "{'kernel': 'linear'}\n",
            "Best cross-validation accuracy: 0.5632591411342817\n",
            "Test accuracy with best n_estimators (grid.best_params_): 0.5241\n"
          ]
        }
      ],
      "source": [
        "print(grid_svc.best_params_)\n",
        "print(\"Best cross-validation accuracy:\", grid_svc.best_score_)\n",
        "\n",
        "# Evaluate on the test set using the best model\n",
        "best_svc = grid_svc.best_estimator_\n",
        "Y_pred = best_svc.predict(Xval_combined)\n",
        "test_accuracy = accuracy_score(Y_val, Y_pred)\n",
        "print(f\"Test accuracy with best params (grid.best_params_): {test_accuracy:.4f}\")"
      ]
    },
    {
      "cell_type": "code",
      "execution_count": null,
      "id": "089d6107",
      "metadata": {
        "id": "089d6107",
        "outputId": "16b990e1-9bf0-4845-f18c-c6f8d339ae66"
      },
      "outputs": [
        {
          "name": "stdout",
          "output_type": "stream",
          "text": [
            "Training time: -1296.8221 seconds\n"
          ]
        },
        {
          "name": "stderr",
          "output_type": "stream",
          "text": [
            "/opt/anaconda3/lib/python3.11/site-packages/sklearn/svm/_base.py:299: ConvergenceWarning: Solver terminated early (max_iter=20000).  Consider pre-processing your data with StandardScaler or MinMaxScaler.\n",
            "  warnings.warn(\n"
          ]
        }
      ],
      "source": [
        "# Train the SVM model with a max_iter of 20000\n",
        "start_time = time.time()\n",
        "svm = SVC(kernel='linear', C=1, max_iter=20000)\n",
        "svm.fit(X_combined, Y_train)\n",
        "end_time = time.time()\n",
        "\n",
        "print(f\"Training time: {start_time - end_time:.4f} seconds\")"
      ]
    },
    {
      "cell_type": "code",
      "execution_count": null,
      "id": "93b273e2",
      "metadata": {
        "id": "93b273e2",
        "outputId": "94de1ed2-9765-426f-d03f-9df1d474185f"
      },
      "outputs": [
        {
          "name": "stdout",
          "output_type": "stream",
          "text": [
            "0.6089449541284404\n"
          ]
        }
      ],
      "source": [
        "Y_pred = svm.predict(Xval_combined)\n",
        "test_accuracy = accuracy_score(Y_val, Y_pred)\n",
        "print(test_accuracy)"
      ]
    },
    {
      "cell_type": "markdown",
      "id": "f920c477",
      "metadata": {
        "id": "f920c477"
      },
      "source": [
        "Due to the limitation of device, it is hard to run SVM until converge. Until tried 5000 max_iter to run about 8,9 minutes, the accuracy is still low. Therefore, SVM might be inappropriate for this task."
      ]
    },
    {
      "cell_type": "code",
      "execution_count": null,
      "id": "33246453",
      "metadata": {
        "id": "33246453"
      },
      "outputs": [],
      "source": []
    },
    {
      "cell_type": "code",
      "execution_count": null,
      "id": "a52979ba",
      "metadata": {
        "id": "a52979ba"
      },
      "outputs": [],
      "source": []
    },
    {
      "cell_type": "code",
      "execution_count": null,
      "id": "f0d202e9",
      "metadata": {
        "id": "f0d202e9",
        "outputId": "a406d3c7-ecb8-4057-c13f-958ad98acc83"
      },
      "outputs": [
        {
          "name": "stdout",
          "output_type": "stream",
          "text": [
            "Multinormial Bayes Classifier has accuracy on test set: 0.7408\n",
            "Random Forest Classifier Accuracy: 0.71\n",
            "Running time:1.07 seconds\n"
          ]
        }
      ],
      "source": [
        "#merge models and calculate speed\n",
        "#!!!!!test time record\n",
        "start_tt = time.time()\n",
        "Y_test = np.array(test_data['label'])\n",
        "X_test_ngram = vectorizer.fit_transform(corpus[1]).toarray()\n",
        "Xtest_ngreduced = pca.fit_transform(X_test_ngram)\n",
        "\n",
        "tokenized_corpus_test = [sentence.split() for sentence in corpus[1]]\n",
        "X_test_word2vec = np.array([sentence_vector(sentence, w2v_model) for sentence in tokenized_corpus_test])\n",
        "Xtest_w2vcscaled = scaler.fit_transform(X_test_word2vec)\n",
        "\n",
        "Xtest_combined = np.hstack((Xtest_ngreduced, Xtest_w2vcscaled))\n",
        "Xtest_combined = scaler.fit_transform(Xtest_combined)\n",
        "\n",
        "\n",
        "Y_test_pred = best_model.predict(corpus[1])  # Make predictions on the val set\n",
        "Bayes_test_accuracy = accuracy_score(Y_test, Y_test_pred)\n",
        "\n",
        "Y_test_pred2 = rf_classifier.predict(Xtest_combined)\n",
        "RF_test_accuracy = accuracy_score(Y_test, Y_test_pred2)\n",
        "\n",
        "\n",
        "\n",
        "end_tt = time.time()\n",
        "print(f\"Multinormial Bayes Classifier has accuracy on test set: {Bayes_test_accuracy:.4f}\")\n",
        "print(f\"Random Forest Classifier Accuracy: {RF_test_accuracy:.2f}\")\n",
        "print(f'Running time:{end_tt-start_tt:.2f} seconds')"
      ]
    }
  ],
  "metadata": {
    "kernelspec": {
      "display_name": "Python 3 (ipykernel)",
      "language": "python",
      "name": "python3"
    },
    "language_info": {
      "codemirror_mode": {
        "name": "ipython",
        "version": 3
      },
      "file_extension": ".py",
      "mimetype": "text/x-python",
      "name": "python",
      "nbconvert_exporter": "python",
      "pygments_lexer": "ipython3",
      "version": "3.11.5"
    },
    "colab": {
      "provenance": []
    }
  },
  "nbformat": 4,
  "nbformat_minor": 5
}